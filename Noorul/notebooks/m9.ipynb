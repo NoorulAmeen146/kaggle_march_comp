{
 "cells": [
  {
   "cell_type": "code",
   "execution_count": 21,
   "metadata": {},
   "outputs": [],
   "source": [
    "import pandas as pd\n",
    "import numpy as np\n",
    "import matplotlib.pyplot as plt\n",
    "import seaborn as sns\n",
    "import xgboost as xgb\n",
    "import lightgbm as lgb\n",
    "from IPython.display import clear_output\n",
    "import time\n",
    "import catboost\n",
    "import re\n",
    "import optuna\n",
    "import sys\n",
    "sys.path.append('../../')\n",
    "import m4\n",
    "from sklearn.linear_model import LogisticRegression\n",
    "from sklearn.tree import DecisionTreeClassifier\n",
    "from sklearn.ensemble import RandomForestClassifier, AdaBoostClassifier, GradientBoostingClassifier, StackingClassifier, VotingClassifier\n",
    "from sklearn.neighbors import KNeighborsClassifier\n",
    "from sklearn.metrics import roc_auc_score\n",
    "from sklearn.pipeline import Pipeline\n",
    "from sklearn.preprocessing import (FunctionTransformer, StandardScaler, MinMaxScaler, RobustScaler, QuantileTransformer, PowerTransformer,\n",
    "                                   OneHotEncoder)\n",
    "from sklearn.compose import ColumnTransformer\n",
    "from sklearn.cluster import KMeans\n",
    "from sklearn.model_selection import train_test_split, cross_val_score, StratifiedKFold, KFold, StratifiedShuffleSplit\n",
    "from sklearn.base import BaseEstimator, TransformerMixin\n",
    "\n",
    "col_names = []\n",
    "with open('../data/Faults27x7_var','r') as f:\n",
    "    for line in f:\n",
    "        col_names.append(line.strip())\n",
    "        \n",
    "train_org = pd.read_csv('../data/train.csv')\n",
    "test_org = pd.read_csv('../data/test.csv')\n",
    "org_data = pd.read_csv('../data/Faults.NNA', delimiter='\\s', engine='python', names=col_names)\n",
    "\n",
    "X = train_org.drop(['id','Pastry', 'Z_Scratch', 'K_Scatch', 'Stains', 'Dirtiness', 'Bumps','Other_Faults'], axis=1)\n",
    "pastry = train_org['Pastry'].copy()\n",
    "z_scratch = train_org['Z_Scratch'].copy()\n",
    "k_scatch = train_org['K_Scatch'].copy()\n",
    "stains = train_org['Stains'].copy()\n",
    "dirtiness = train_org['Dirtiness'].copy()\n",
    "bumps = train_org['Bumps'].copy()\n",
    "other_faults = train_org['Other_Faults'].copy()\n",
    "\n",
    "ys = [pastry, z_scratch, k_scatch, stains, dirtiness, bumps, other_faults]\n",
    "y_names = ['pastry', 'z_scratch', 'k_scatch', 'stains', 'dirtiness', 'bumps', 'other_faults']\n",
    "\n",
    "class KMeansTransformer(BaseEstimator,TransformerMixin):\n",
    "    def __init__(self, n_clusters):\n",
    "        self.n_clusters = n_clusters\n",
    "        self.kmeans = KMeans(n_clusters=self.n_clusters, n_init=10, random_state=0)\n",
    "        \n",
    "    def fit(self,X, y=None):\n",
    "        self.kmeans.fit(X)\n",
    "        return self\n",
    "        \n",
    "    def transform(self,X):\n",
    "        labels = self.kmeans.predict(X)\n",
    "        return np.c_[X, labels]"
   ]
  },
  {
   "cell_type": "code",
   "execution_count": 2,
   "metadata": {},
   "outputs": [],
   "source": [
    "y_params_dict = {}\n",
    "for y_nm in y_names:\n",
    "    y_params_dict[y_nm] = None"
   ]
  },
  {
   "cell_type": "code",
   "execution_count": 3,
   "metadata": {},
   "outputs": [],
   "source": [
    "y_scores = {}"
   ]
  },
  {
   "cell_type": "code",
   "execution_count": 4,
   "metadata": {},
   "outputs": [
    {
     "ename": "OSError",
     "evalue": "[Errno 22] Invalid argument: '09_Mar_20:02:50.json'",
     "output_type": "error",
     "traceback": [
      "\u001b[1;31m---------------------------------------------------------------------------\u001b[0m",
      "\u001b[1;31mOSError\u001b[0m                                   Traceback (most recent call last)",
      "Cell \u001b[1;32mIn[4], line 46\u001b[0m\n\u001b[0;32m     43\u001b[0m     time\u001b[38;5;241m.\u001b[39msleep(\u001b[38;5;241m5\u001b[39m)\n\u001b[0;32m     44\u001b[0m     clear_output()\n\u001b[1;32m---> 46\u001b[0m \u001b[43mmain\u001b[49m\u001b[38;5;241;43m.\u001b[39;49m\u001b[43msaver\u001b[49m\u001b[43m(\u001b[49m\u001b[43my_params_dict\u001b[49m\u001b[43m,\u001b[49m\u001b[43my_scores\u001b[49m\u001b[43m)\u001b[49m\n",
      "File \u001b[1;32md:\\Documents\\march_kaggle\\Noorul\\notebooks\\../..\\main.py:18\u001b[0m, in \u001b[0;36msaver\u001b[1;34m(parameters_, results)\u001b[0m\n\u001b[0;32m     16\u001b[0m     \u001b[38;5;28;01mcontinue\u001b[39;00m\n\u001b[0;32m     17\u001b[0m date_time_stamp \u001b[38;5;241m=\u001b[39m datetime\u001b[38;5;241m.\u001b[39mdatetime\u001b[38;5;241m.\u001b[39mnow()\u001b[38;5;241m.\u001b[39mstrftime(\u001b[38;5;124m\"\u001b[39m\u001b[38;5;132;01m%d\u001b[39;00m\u001b[38;5;124m_\u001b[39m\u001b[38;5;124m%\u001b[39m\u001b[38;5;124mb_\u001b[39m\u001b[38;5;124m%\u001b[39m\u001b[38;5;124mH:\u001b[39m\u001b[38;5;124m%\u001b[39m\u001b[38;5;124mM:\u001b[39m\u001b[38;5;124m%\u001b[39m\u001b[38;5;124mS\u001b[39m\u001b[38;5;124m\"\u001b[39m)\n\u001b[1;32m---> 18\u001b[0m \u001b[38;5;28;01mwith\u001b[39;00m \u001b[38;5;28;43mopen\u001b[39;49m\u001b[43m(\u001b[49m\u001b[38;5;124;43mf\u001b[39;49m\u001b[38;5;124;43m'\u001b[39;49m\u001b[38;5;132;43;01m{\u001b[39;49;00m\u001b[43mdate_time_stamp\u001b[49m\u001b[38;5;132;43;01m}\u001b[39;49;00m\u001b[38;5;124;43m.json\u001b[39;49m\u001b[38;5;124;43m'\u001b[39;49m\u001b[43m,\u001b[49m\u001b[43m \u001b[49m\u001b[38;5;124;43m'\u001b[39;49m\u001b[38;5;124;43mw\u001b[39;49m\u001b[38;5;124;43m'\u001b[39;49m\u001b[43m)\u001b[49m \u001b[38;5;28;01mas\u001b[39;00m file:\n\u001b[0;32m     19\u001b[0m     json\u001b[38;5;241m.\u001b[39mdump(dictionary, file)\n\u001b[0;32m     20\u001b[0m time\u001b[38;5;241m.\u001b[39msleep(\u001b[38;5;241m4\u001b[39m)\n",
      "\u001b[1;31mOSError\u001b[0m: [Errno 22] Invalid argument: '09_Mar_20:02:50.json'"
     ]
    }
   ],
   "source": [
    "for y,y_name in zip(ys,y_names):\n",
    "    \n",
    "    print(f'trial: {y_name}\\n')\n",
    "    \n",
    "    def objective_xgb(trial):\n",
    "    \n",
    "        cvo = StratifiedKFold(n_splits=5, shuffle=True, random_state=0)\n",
    "        params = dict(\n",
    "            n_estimators = trial.suggest_int('n_estimators',100,500),\n",
    "            max_depth = trial.suggest_int('max_depth',2,64),\n",
    "            max_leaves = trial.suggest_int('max_leaves',2,128),\n",
    "            learning_rate = trial.suggest_float('learning_rate',0.001,0.3),\n",
    "            gamma = trial.suggest_float('gamma',0.001,10),\n",
    "            min_child_weight = trial.suggest_float('min_child_weight', 0.01,10),\n",
    "            subsample = trial.suggest_float('subsample', 0.33,0.85),\n",
    "            colsample_bytree = trial.suggest_float('colsample_bytree',0.33,0.7),\n",
    "            reg_alpha=trial.suggest_float('reg_alpha', 0.001, 0.1),\n",
    "            reg_lambda = trial.suggest_float('reg_lambda', 0.001,0.1)\n",
    "        )\n",
    "        \n",
    "        xgbc = xgb.XGBClassifier(random_state= 0, objective='binary:logistic', verbose=0,**params)\n",
    "        \n",
    "        pipe = Pipeline(\n",
    "            steps = [\n",
    "                ('scaler', StandardScaler()),\n",
    "                ('model', xgbc)\n",
    "            ]\n",
    "        )\n",
    "        \n",
    "        score = np.mean(cross_val_score(pipe, X,y, scoring='roc_auc', cv= cvo))\n",
    "        return score\n",
    "    \n",
    "    study_lgb = optuna.create_study(direction='maximize')\n",
    "    \n",
    "    study_lgb.optimize(objective_xgb, n_trials=1000, n_jobs=-1, show_progress_bar=True)\n",
    "    \n",
    "    best_params = study_lgb.best_params\n",
    "    y_params_dict[y_name] = best_params\n",
    "    \n",
    "    best_score = study_lgb.best_value\n",
    "    y_scores[y_name] = best_score\n",
    "    \n",
    "    time.sleep(5)\n",
    "    clear_output()"
   ]
  },
  {
   "cell_type": "code",
   "execution_count": 22,
   "metadata": {},
   "outputs": [],
   "source": [
    "desc = 'vanilla xgbc with hpt'"
   ]
  },
  {
   "cell_type": "code",
   "execution_count": 23,
   "metadata": {},
   "outputs": [],
   "source": [
    "m4.saver(y_params_dict,y_scores,desc)"
   ]
  },
  {
   "cell_type": "code",
   "execution_count": 5,
   "metadata": {},
   "outputs": [
    {
     "data": {
      "text/plain": [
       "{'pastry': {'n_estimators': 480,\n",
       "  'max_depth': 31,\n",
       "  'max_leaves': 10,\n",
       "  'learning_rate': 0.03367043946743182,\n",
       "  'gamma': 3.8855613835149065,\n",
       "  'min_child_weight': 3.984518493054492,\n",
       "  'subsample': 0.6800878588269862,\n",
       "  'colsample_bytree': 0.49391450660584085,\n",
       "  'reg_alpha': 0.08809403572323495,\n",
       "  'reg_lambda': 0.06605055800961854},\n",
       " 'z_scratch': {'n_estimators': 474,\n",
       "  'max_depth': 49,\n",
       "  'max_leaves': 9,\n",
       "  'learning_rate': 0.025150617026351282,\n",
       "  'gamma': 5.480485141696638,\n",
       "  'min_child_weight': 3.2787655492442784,\n",
       "  'subsample': 0.7149455194983128,\n",
       "  'colsample_bytree': 0.35171884661635155,\n",
       "  'reg_alpha': 0.01709990699405062,\n",
       "  'reg_lambda': 0.013858064737466924},\n",
       " 'k_scatch': {'n_estimators': 469,\n",
       "  'max_depth': 18,\n",
       "  'max_leaves': 27,\n",
       "  'learning_rate': 0.013019184341527188,\n",
       "  'gamma': 2.832684619899278,\n",
       "  'min_child_weight': 8.380738408509018,\n",
       "  'subsample': 0.7359245187944895,\n",
       "  'colsample_bytree': 0.359439885664309,\n",
       "  'reg_alpha': 0.003920819688913427,\n",
       "  'reg_lambda': 0.0029385507127101017},\n",
       " 'stains': {'n_estimators': 388,\n",
       "  'max_depth': 57,\n",
       "  'max_leaves': 62,\n",
       "  'learning_rate': 0.007383322235527469,\n",
       "  'gamma': 0.9398014505350213,\n",
       "  'min_child_weight': 0.22463724933504348,\n",
       "  'subsample': 0.8060852644399965,\n",
       "  'colsample_bytree': 0.39738470321437747,\n",
       "  'reg_alpha': 0.002291549218645071,\n",
       "  'reg_lambda': 0.046886146581609556},\n",
       " 'dirtiness': {'n_estimators': 411,\n",
       "  'max_depth': 42,\n",
       "  'max_leaves': 24,\n",
       "  'learning_rate': 0.011526034482041075,\n",
       "  'gamma': 3.0638296786764774,\n",
       "  'min_child_weight': 2.3697674870500314,\n",
       "  'subsample': 0.7878393458174052,\n",
       "  'colsample_bytree': 0.34222885521900254,\n",
       "  'reg_alpha': 0.07207505577002629,\n",
       "  'reg_lambda': 0.015502255444693734},\n",
       " 'bumps': {'n_estimators': 365,\n",
       "  'max_depth': 37,\n",
       "  'max_leaves': 35,\n",
       "  'learning_rate': 0.018446494942248117,\n",
       "  'gamma': 4.641454160477891,\n",
       "  'min_child_weight': 7.055613379104703,\n",
       "  'subsample': 0.8377432782832124,\n",
       "  'colsample_bytree': 0.46290322812814916,\n",
       "  'reg_alpha': 0.0344674009641033,\n",
       "  'reg_lambda': 0.005425587801650272},\n",
       " 'other_faults': {'n_estimators': 483,\n",
       "  'max_depth': 39,\n",
       "  'max_leaves': 85,\n",
       "  'learning_rate': 0.01654942357460954,\n",
       "  'gamma': 5.3464115331438675,\n",
       "  'min_child_weight': 0.9196003339587651,\n",
       "  'subsample': 0.8197909243586087,\n",
       "  'colsample_bytree': 0.3307446265126687,\n",
       "  'reg_alpha': 0.038743459313308595,\n",
       "  'reg_lambda': 0.08160629265835861}}"
      ]
     },
     "execution_count": 5,
     "metadata": {},
     "output_type": "execute_result"
    }
   ],
   "source": [
    "y_params_dict"
   ]
  },
  {
   "cell_type": "code",
   "execution_count": 6,
   "metadata": {},
   "outputs": [
    {
     "data": {
      "text/plain": [
       "{'pastry': 0.8719346610914931,\n",
       " 'z_scratch': 0.9614636187840118,\n",
       " 'k_scatch': 0.9861060189207164,\n",
       " 'stains': 0.9928379881879204,\n",
       " 'dirtiness': 0.8966676031071316,\n",
       " 'bumps': 0.8113068596570112,\n",
       " 'other_faults': 0.7103917057756547}"
      ]
     },
     "execution_count": 6,
     "metadata": {},
     "output_type": "execute_result"
    }
   ],
   "source": [
    "y_scores"
   ]
  },
  {
   "cell_type": "code",
   "execution_count": 26,
   "metadata": {},
   "outputs": [],
   "source": [
    "pastry_params = y_params_dict['pastry']\n",
    "\n",
    "pastry_m = Pipeline(\n",
    "    steps=[\n",
    "        ('scaler', StandardScaler()),\n",
    "        ('model', xgb.XGBClassifier(random_state= 0, objective='binary:logistic',**pastry_params))\n",
    "    ]\n",
    ")\n",
    "pastry_m.fit(X,pastry)\n",
    "pastry_pred = pastry_m.predict_proba(test_org.drop(['id'], axis=1))[:,1]"
   ]
  },
  {
   "cell_type": "code",
   "execution_count": 27,
   "metadata": {},
   "outputs": [],
   "source": [
    "z_scratch_params = y_params_dict['z_scratch']\n",
    "\n",
    "z_scratch_m = Pipeline(\n",
    "    steps=[\n",
    "        ('scaler', StandardScaler()),\n",
    "        ('model', xgb.XGBClassifier(random_state= 0, objective='binary:logistic', **z_scratch_params))\n",
    "    ]\n",
    ")\n",
    "z_scratch_m.fit(X,z_scratch)\n",
    "z_scratch_pred = z_scratch_m.predict_proba(test_org.drop(['id'], axis=1))[:,1]"
   ]
  },
  {
   "cell_type": "code",
   "execution_count": 28,
   "metadata": {},
   "outputs": [],
   "source": [
    "k_scatch_params = y_params_dict['k_scatch']\n",
    "\n",
    "k_scatch_m = Pipeline(\n",
    "    steps=[\n",
    "        ('scaler', StandardScaler()),\n",
    "        ('model', xgb.XGBClassifier(random_state= 0, objective='binary:logistic',**k_scatch_params))\n",
    "    ]\n",
    ")\n",
    "k_scatch_m.fit(X,k_scatch)\n",
    "k_scatch_pred = k_scatch_m.predict_proba(test_org.drop(['id'], axis=1))[:,1]"
   ]
  },
  {
   "cell_type": "code",
   "execution_count": 29,
   "metadata": {},
   "outputs": [],
   "source": [
    "stains_params = y_params_dict['stains']\n",
    "\n",
    "stains_m = Pipeline(\n",
    "    steps=[\n",
    "        ('scaler', StandardScaler()),\n",
    "        ('model', xgb.XGBClassifier(random_state= 0, objective='binary:logistic',**stains_params))\n",
    "    ]\n",
    ")\n",
    "stains_m.fit(X,stains)\n",
    "stains_pred = stains_m.predict_proba(test_org.drop(['id'], axis=1))[:,1]"
   ]
  },
  {
   "cell_type": "code",
   "execution_count": 30,
   "metadata": {},
   "outputs": [],
   "source": [
    "dirtiness_params = y_params_dict['dirtiness']\n",
    "\n",
    "dirtiness_m = Pipeline(\n",
    "    steps=[\n",
    "        ('scaler', StandardScaler()),\n",
    "        ('model', xgb.XGBClassifier(random_state= 0, objective='binary:logistic',**dirtiness_params))\n",
    "    ]\n",
    ")\n",
    "dirtiness_m.fit(X,dirtiness)\n",
    "dirtiness_pred = dirtiness_m.predict_proba(test_org.drop(['id'], axis=1))[:,1]"
   ]
  },
  {
   "cell_type": "code",
   "execution_count": 31,
   "metadata": {},
   "outputs": [],
   "source": [
    "bumps_params = y_params_dict['bumps']\n",
    "\n",
    "bumps_m = Pipeline(\n",
    "    steps=[\n",
    "        ('scaler', StandardScaler()),\n",
    "        ('model', xgb.XGBClassifier(random_state= 0, objective='binary:logistic',**bumps_params))\n",
    "    ]\n",
    ")\n",
    "bumps_m.fit(X,bumps)\n",
    "bumps_pred = bumps_m.predict_proba(test_org.drop(['id'], axis=1))[:,1]"
   ]
  },
  {
   "cell_type": "code",
   "execution_count": 32,
   "metadata": {},
   "outputs": [],
   "source": [
    "other_faults_params = y_params_dict['other_faults']\n",
    "\n",
    "other_faults_m = Pipeline(\n",
    "    steps=[\n",
    "        ('scaler', StandardScaler()),\n",
    "        ('model', xgb.XGBClassifier(random_state= 0, objective='binary:logistic',**other_faults_params))\n",
    "    ]\n",
    ")\n",
    "other_faults_m.fit(X,other_faults)\n",
    "other_faults_pred = other_faults_m.predict_proba(test_org.drop(['id'], axis=1))[:,1]"
   ]
  },
  {
   "cell_type": "code",
   "execution_count": 33,
   "metadata": {},
   "outputs": [],
   "source": [
    "sub = pd.DataFrame({'id':test_org['id'].copy(), 'Pastry':pastry_pred, 'Z_Scratch':z_scratch_pred, 'K_Scatch':k_scatch_pred,\n",
    "                    'Stains':stains_pred, 'Dirtiness':dirtiness_pred, 'Bumps':bumps_pred, 'Other_Faults':other_faults_pred})"
   ]
  },
  {
   "cell_type": "code",
   "execution_count": 34,
   "metadata": {},
   "outputs": [
    {
     "data": {
      "text/html": [
       "<div>\n",
       "<style scoped>\n",
       "    .dataframe tbody tr th:only-of-type {\n",
       "        vertical-align: middle;\n",
       "    }\n",
       "\n",
       "    .dataframe tbody tr th {\n",
       "        vertical-align: top;\n",
       "    }\n",
       "\n",
       "    .dataframe thead th {\n",
       "        text-align: right;\n",
       "    }\n",
       "</style>\n",
       "<table border=\"1\" class=\"dataframe\">\n",
       "  <thead>\n",
       "    <tr style=\"text-align: right;\">\n",
       "      <th></th>\n",
       "      <th>id</th>\n",
       "      <th>Pastry</th>\n",
       "      <th>Z_Scratch</th>\n",
       "      <th>K_Scatch</th>\n",
       "      <th>Stains</th>\n",
       "      <th>Dirtiness</th>\n",
       "      <th>Bumps</th>\n",
       "      <th>Other_Faults</th>\n",
       "    </tr>\n",
       "  </thead>\n",
       "  <tbody>\n",
       "    <tr>\n",
       "      <th>0</th>\n",
       "      <td>19219</td>\n",
       "      <td>0.542258</td>\n",
       "      <td>0.001265</td>\n",
       "      <td>0.005876</td>\n",
       "      <td>0.007873</td>\n",
       "      <td>0.023696</td>\n",
       "      <td>0.183601</td>\n",
       "      <td>0.344444</td>\n",
       "    </tr>\n",
       "    <tr>\n",
       "      <th>1</th>\n",
       "      <td>19220</td>\n",
       "      <td>0.270092</td>\n",
       "      <td>0.025952</td>\n",
       "      <td>0.007724</td>\n",
       "      <td>0.007884</td>\n",
       "      <td>0.157546</td>\n",
       "      <td>0.170423</td>\n",
       "      <td>0.320102</td>\n",
       "    </tr>\n",
       "    <tr>\n",
       "      <th>2</th>\n",
       "      <td>19221</td>\n",
       "      <td>0.001973</td>\n",
       "      <td>0.050067</td>\n",
       "      <td>0.041113</td>\n",
       "      <td>0.008226</td>\n",
       "      <td>0.007689</td>\n",
       "      <td>0.281818</td>\n",
       "      <td>0.477841</td>\n",
       "    </tr>\n",
       "    <tr>\n",
       "      <th>3</th>\n",
       "      <td>19222</td>\n",
       "      <td>0.171895</td>\n",
       "      <td>0.002315</td>\n",
       "      <td>0.001768</td>\n",
       "      <td>0.008436</td>\n",
       "      <td>0.012893</td>\n",
       "      <td>0.421060</td>\n",
       "      <td>0.412308</td>\n",
       "    </tr>\n",
       "    <tr>\n",
       "      <th>4</th>\n",
       "      <td>19223</td>\n",
       "      <td>0.002853</td>\n",
       "      <td>0.002297</td>\n",
       "      <td>0.002023</td>\n",
       "      <td>0.008303</td>\n",
       "      <td>0.009574</td>\n",
       "      <td>0.595401</td>\n",
       "      <td>0.339369</td>\n",
       "    </tr>\n",
       "  </tbody>\n",
       "</table>\n",
       "</div>"
      ],
      "text/plain": [
       "      id    Pastry  Z_Scratch  K_Scatch    Stains  Dirtiness     Bumps  \\\n",
       "0  19219  0.542258   0.001265  0.005876  0.007873   0.023696  0.183601   \n",
       "1  19220  0.270092   0.025952  0.007724  0.007884   0.157546  0.170423   \n",
       "2  19221  0.001973   0.050067  0.041113  0.008226   0.007689  0.281818   \n",
       "3  19222  0.171895   0.002315  0.001768  0.008436   0.012893  0.421060   \n",
       "4  19223  0.002853   0.002297  0.002023  0.008303   0.009574  0.595401   \n",
       "\n",
       "   Other_Faults  \n",
       "0      0.344444  \n",
       "1      0.320102  \n",
       "2      0.477841  \n",
       "3      0.412308  \n",
       "4      0.339369  "
      ]
     },
     "execution_count": 34,
     "metadata": {},
     "output_type": "execute_result"
    }
   ],
   "source": [
    "sub.head()"
   ]
  },
  {
   "cell_type": "code",
   "execution_count": 35,
   "metadata": {},
   "outputs": [
    {
     "name": "stdout",
     "output_type": "stream",
     "text": [
      "0.8901012079319912\n"
     ]
    }
   ],
   "source": [
    "ts = 0\n",
    "for yn,score in y_scores.items():\n",
    "    ts += score\n",
    "    \n",
    "print(ts/7)"
   ]
  },
  {
   "cell_type": "code",
   "execution_count": 37,
   "metadata": {},
   "outputs": [],
   "source": [
    "sub.to_csv('../submissions/m9.csv', index=False)"
   ]
  }
 ],
 "metadata": {
  "kernelspec": {
   "display_name": "MyVenv",
   "language": "python",
   "name": "myvenv"
  },
  "language_info": {
   "codemirror_mode": {
    "name": "ipython",
    "version": 3
   },
   "file_extension": ".py",
   "mimetype": "text/x-python",
   "name": "python",
   "nbconvert_exporter": "python",
   "pygments_lexer": "ipython3",
   "version": "3.10.13"
  }
 },
 "nbformat": 4,
 "nbformat_minor": 2
}
